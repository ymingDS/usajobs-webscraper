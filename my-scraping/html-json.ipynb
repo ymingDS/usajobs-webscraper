{
 "cells": [
  {
   "cell_type": "code",
   "execution_count": 2,
   "metadata": {},
   "outputs": [],
   "source": [
    "from bs4 import BeautifulSoup\n",
    "import json"
   ]
  },
  {
   "cell_type": "code",
   "execution_count": null,
   "metadata": {},
   "outputs": [],
   "source": [
    "# Load the HTML file\n",
    "folder_path = \"job-htmls\"\n",
    "\n",
    "\n",
    "def html_to_json(job_id): \n",
    "    with open(f'{folder_path}/{job_id}', \"r\", encoding=\"utf-8\") as file:\n",
    "        soup = BeautifulSoup(file, \"html.parser\")\n",
    "\n",
    "    # Extract Summary\n",
    "    summary_section = soup.find(\"div\", id=\"summary\")\n",
    "    \n",
    "    # better remove unnecessary text in Summary\n",
    "    summary = summary_section.get_text().split('Summary')[1].strip() if summary_section else \"Not available\"\n",
    "    # old verion: summary = summary_section.get_text(strip=True) if summary_section else \"Not available\"\n",
    "    \n",
    "\n",
    "    # Extract Overview (and all subsections)\n",
    "    overview_section = soup.find(\"div\", class_=\"usajobs-joa-section usajobs-joa-section-beta desktop-display-none\")\n",
    "    overview_dict = {}\n",
    "\n",
    "    if overview_section:\n",
    "        for item in overview_section.find_all(\"li\", class_=\"usajobs-joa-summary__item\"):\n",
    "            label = item.find(\"h3\")\n",
    "            value = item.find(\"p\")\n",
    "            if label and value:\n",
    "                overview_dict[label.get_text(strip=True)] = value.get_text(strip=True)\n",
    "\n",
    "    # Extract Hiring Paths\n",
    "    hiring_paths_section = soup.find(\"div\", id=\"hiring-paths\")\n",
    "    hiring_paths = [item.get_text(strip=True) for item in hiring_paths_section.find_all(\"div\", class_=\"usajobs-joa-intro-hiring-paths__title\")] if hiring_paths_section else []\n",
    "\n",
    "    # Extract Duties\n",
    "    duties_section = soup.find(\"div\", id=\"duties\")\n",
    "    duties = [li.get_text(strip=True) for li in duties_section.find_all(\"li\")] if duties_section else []\n",
    "\n",
    "    # Extract Requirements\n",
    "    requirements_section = soup.find(\"div\", id=\"requirements\")\n",
    "    requirements = [li.get_text(strip=True) for li in requirements_section.find_all(\"li\")] if requirements_section else []\n",
    "\n",
    "    # Extract How You Will Be Evaluated\n",
    "    evaluation_section = soup.find(\"div\", id=\"how-you-will-be-evaluated\")\n",
    "    evaluation_text = evaluation_section.get_text(strip=True) if evaluation_section else \"Not available\"\n",
    "\n",
    "    # Extract Required Documents\n",
    "    required_docs_section = soup.find(\"div\", id=\"required-documents\")\n",
    "    required_documents = [li.get_text(strip=True) for li in required_docs_section.find_all(\"li\")] if required_docs_section else []\n",
    "\n",
    "    # Structuring the extracted data into a JSON dictionary\n",
    "    job_data = {\n",
    "        \"summary\": summary,\n",
    "        \"overview\": overview_dict,\n",
    "        \"hiring_paths\": hiring_paths,\n",
    "        \"duties\": duties,\n",
    "        \"requirements\": requirements,\n",
    "        \"evaluation\": evaluation_text,\n",
    "        \"required_documents\": required_documents\n",
    "    }\n",
    "\n",
    "    # Save the extracted data to a JSON file\n",
    "    json_file_path = f\"{job_id}.json\"\n",
    "    with open(json_file_path, \"w\", encoding=\"utf-8\") as json_file:\n",
    "        json.dump(job_data, json_file, indent=4)\n",
    "        print(f\"Processed: {json_file_path}\")\n",
    "\n"
   ]
  },
  {
   "cell_type": "code",
   "execution_count": 6,
   "metadata": {},
   "outputs": [],
   "source": [
    "html_to_json('usa_jobs_520636600.html')"
   ]
  },
  {
   "cell_type": "code",
   "execution_count": null,
   "metadata": {},
   "outputs": [],
   "source": []
  }
 ],
 "metadata": {
  "kernelspec": {
   "display_name": "clearai",
   "language": "python",
   "name": "python3"
  },
  "language_info": {
   "codemirror_mode": {
    "name": "ipython",
    "version": 3
   },
   "file_extension": ".py",
   "mimetype": "text/x-python",
   "name": "python",
   "nbconvert_exporter": "python",
   "pygments_lexer": "ipython3",
   "version": "3.12.3"
  }
 },
 "nbformat": 4,
 "nbformat_minor": 2
}
